{
 "cells": [
  {
   "cell_type": "code",
   "execution_count": 4,
   "metadata": {},
   "outputs": [],
   "source": [
    "from nested_cv import NestedCV\n",
    "\n",
    "import pandas as pd\n",
    "import numpy as np\n",
    "from sklearn.datasets import load_boston, load_iris\n",
    "from sklearn.ensemble import RandomForestRegressor, RandomForestClassifier"
   ]
  },
  {
   "cell_type": "markdown",
   "metadata": {},
   "source": [
    "# Regression Example"
   ]
  },
  {
   "cell_type": "code",
   "execution_count": 5,
   "metadata": {},
   "outputs": [
    {
     "data": {
      "text/plain": [
       "[4.061072706702337,\n",
       " 3.7498497395097794,\n",
       " 4.390818154090893,\n",
       " 4.137429367392809,\n",
       " 4.242395335266116]"
      ]
     },
     "execution_count": 5,
     "metadata": {},
     "output_type": "execute_result"
    }
   ],
   "source": [
    "boston_data = load_boston()\n",
    "X = boston_data['data']\n",
    "y = boston_data['target']\n",
    "\n",
    "# Define a parameters grid\n",
    "param_grid = {\n",
    "     'max_depth': [3, None],\n",
    "     'n_estimators': [10]\n",
    "}\n",
    "\n",
    "# When using Random Search, we get a user warning with this little number of hyperparameters\n",
    "# Suppress it\n",
    "import warnings\n",
    "warnings.simplefilter(action='ignore', category=UserWarning)\n",
    "\n",
    "NCV = NestedCV(model=RandomForestRegressor(), params_grid=param_grid, outer_kfolds=5, inner_kfolds=5,\n",
    "               cv_options={'sqrt_of_score':True, 'randomized_search_iter':30,\n",
    "                           'recursive_feature_elimination':True, 'rfe_n_features':2})\n",
    "NCV.fit(X=X,y=y)\n",
    "\n",
    "NCV.outer_scores"
   ]
  },
  {
   "cell_type": "markdown",
   "metadata": {},
   "source": [
    "# Classification Example"
   ]
  },
  {
   "cell_type": "code",
   "execution_count": 6,
   "metadata": {},
   "outputs": [
    {
     "data": {
      "text/plain": [
       "[1.0,\n",
       " 0.9666666666666667,\n",
       " 0.9333333333333333,\n",
       " 0.9333333333333333,\n",
       " 0.9666666666666667]"
      ]
     },
     "execution_count": 6,
     "metadata": {},
     "output_type": "execute_result"
    }
   ],
   "source": [
    "from sklearn.metrics import accuracy_score\n",
    "\n",
    "iris_data = load_iris()\n",
    "X = iris_data['data']\n",
    "y = iris_data['target']\n",
    "\n",
    "# Define a parameters grid\n",
    "param_grid = {\n",
    "     'max_depth': [3, None],\n",
    "     'n_estimators': [10]\n",
    "}\n",
    "\n",
    "# When using Random Search, we get a user warning with this little number of hyperparameters\n",
    "# Suppress it\n",
    "import warnings\n",
    "warnings.simplefilter(action='ignore', category=UserWarning)\n",
    "\n",
    "NCV = NestedCV(model=RandomForestClassifier(), params_grid=param_grid, outer_kfolds=5, inner_kfolds=5,\n",
    "               cv_options={'metric':accuracy_score, 'metric_score_indicator_lower':False,\n",
    "                           'randomized_search_iter':30})\n",
    "NCV.fit(X=X,y=y)\n",
    "\n",
    "NCV.outer_scores"
   ]
  },
  {
   "cell_type": "code",
   "execution_count": null,
   "metadata": {},
   "outputs": [],
   "source": []
  }
 ],
 "metadata": {
  "kernelspec": {
   "display_name": "Python 3",
   "language": "python",
   "name": "python3"
  },
  "language_info": {
   "codemirror_mode": {
    "name": "ipython",
    "version": 3
   },
   "file_extension": ".py",
   "mimetype": "text/x-python",
   "name": "python",
   "nbconvert_exporter": "python",
   "pygments_lexer": "ipython3",
   "version": "3.6.8"
  }
 },
 "nbformat": 4,
 "nbformat_minor": 2
}
