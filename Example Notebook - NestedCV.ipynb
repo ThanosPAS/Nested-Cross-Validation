{
 "cells": [
  {
   "cell_type": "code",
   "execution_count": 1,
   "metadata": {},
   "outputs": [],
   "source": [
    "from nested_cv import NestedCV\n",
    "\n",
    "import pandas as pd\n",
    "import numpy as np\n",
    "from sklearn.datasets import load_boston, load_iris\n",
    "from sklearn.ensemble import RandomForestRegressor, RandomForestClassifier"
   ]
  },
  {
   "cell_type": "markdown",
   "metadata": {},
   "source": [
    "# Regression Example"
   ]
  },
  {
   "cell_type": "code",
   "execution_count": 2,
   "metadata": {},
   "outputs": [
    {
     "data": {
      "text/plain": [
       "[4.808466656646429,\n",
       " 4.121921058708183,\n",
       " 3.330716078532988,\n",
       " 3.926433011943895,\n",
       " 3.857621871072219]"
      ]
     },
     "execution_count": 2,
     "metadata": {},
     "output_type": "execute_result"
    }
   ],
   "source": [
    "boston_data = load_boston()\n",
    "X = boston_data['data']\n",
    "y = boston_data['target']\n",
    "\n",
    "# Define a parameters grid\n",
    "param_grid = {\n",
    "     'max_depth': [3, None],\n",
    "     'n_estimators': [10]\n",
    "}\n",
    "\n",
    "# When using Random Search, we get a user warning with this little number of hyperparameters\n",
    "# Suppress it\n",
    "import warnings\n",
    "warnings.simplefilter(action='ignore', category=UserWarning)\n",
    "\n",
    "nested_CV_search = NestedCV(model=RandomForestRegressor(), params_grid=param_grid , outer_kfolds=5, inner_kfolds=5, \n",
    "                            cv_options={'sqrt_of_score':True, 'randomized_search_iter':30,\n",
    "                                       'recursive_feature_elimination':True, 'rfe_n_features':2})\n",
    "nested_CV_search.fit(X=X,y=y)\n",
    "\n",
    "nested_CV_search.outer_scores"
   ]
  },
  {
   "cell_type": "markdown",
   "metadata": {},
   "source": [
    "# Classification Example"
   ]
  },
  {
   "cell_type": "code",
   "execution_count": 3,
   "metadata": {},
   "outputs": [
    {
     "data": {
      "text/plain": [
       "[1.0, 0.9666666666666667, 0.9666666666666667, 0.9, 0.9]"
      ]
     },
     "execution_count": 3,
     "metadata": {},
     "output_type": "execute_result"
    }
   ],
   "source": [
    "from sklearn.metrics import accuracy_score\n",
    "\n",
    "iris_data = load_iris()\n",
    "X = iris_data['data']\n",
    "y = iris_data['target']\n",
    "\n",
    "# Define a parameters grid\n",
    "param_grid = {\n",
    "     'max_depth': [3, None],\n",
    "     'n_estimators': [10]\n",
    "}\n",
    "\n",
    "# When using Random Search, we get a user warning with this little number of hyperparameters\n",
    "# Suppress it\n",
    "import warnings\n",
    "warnings.simplefilter(action='ignore', category=UserWarning)\n",
    "\n",
    "nested_CV_search = NestedCV(model=RandomForestClassifier(), params_grid=param_grid , outer_kfolds=5, inner_kfolds=5, \n",
    "                            cv_options={'metric':accuracy_score, 'metric_score_indicator_lower':False,\n",
    "                                        'randomized_search_iter':30})\n",
    "nested_CV_search.fit(X=X,y=y)\n",
    "\n",
    "nested_CV_search.outer_scores"
   ]
  },
  {
   "cell_type": "code",
   "execution_count": null,
   "metadata": {},
   "outputs": [],
   "source": []
  }
 ],
 "metadata": {
  "kernelspec": {
   "display_name": "Python 3",
   "language": "python",
   "name": "python3"
  },
  "language_info": {
   "codemirror_mode": {
    "name": "ipython",
    "version": 3
   },
   "file_extension": ".py",
   "mimetype": "text/x-python",
   "name": "python",
   "nbconvert_exporter": "python",
   "pygments_lexer": "ipython3",
   "version": "3.6.8"
  }
 },
 "nbformat": 4,
 "nbformat_minor": 2
}
