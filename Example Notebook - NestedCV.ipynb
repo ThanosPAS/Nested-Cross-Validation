{
 "cells": [
  {
   "cell_type": "code",
   "execution_count": 1,
   "metadata": {},
   "outputs": [],
   "source": [
    "from nested_cv import NestedCV\n",
    "\n",
    "import pandas as pd\n",
    "import numpy as np\n",
    "from sklearn.datasets import load_boston, load_iris, load_breast_cancer\n",
    "from sklearn.ensemble import RandomForestRegressor, RandomForestClassifier\n",
    "\n",
    "# When using Random Search, we get a user warning with this little number of hyperparameters\n",
    "# Suppress it\n",
    "import warnings\n",
    "warnings.simplefilter(action='ignore', category=UserWarning)\n",
    "warnings.simplefilter(action='ignore', category=FutureWarning)"
   ]
  },
  {
   "cell_type": "markdown",
   "metadata": {},
   "source": [
    "# Regression Example"
   ]
  },
  {
   "cell_type": "code",
   "execution_count": 2,
   "metadata": {},
   "outputs": [
    {
     "name": "stdout",
     "output_type": "stream",
     "text": [
      "[3.8731555751351503 3.3742141288979153 4.830080881316246 3.520547972218438\n",
      " 3.594803883826222 3.212454351887815 4.474999492920611 4.54115868718791\n",
      " 3.724566172483345 3.4801962947512024]\n",
      "3.212454351887815\n",
      "{'max_depth': None, 'n_estimators': 10}\n",
      "[5.306462055524935 4.258174853903929 3.47923083698778 3.2474077030954174\n",
      " 4.344633995325251 3.447419503711131 3.8754888659265383 3.511474840512965\n",
      " 4.4973367677807 3.8302536743506357]\n",
      "3.2474077030954174\n",
      "{'max_depth': None, 'n_estimators': 10}\n",
      "[4.2573598538583175 3.6572247117989067 3.531448194252269 3.332490263755424\n",
      " 3.8168474313786516 3.306822166295939 3.316329408176702 2.9956831080657746\n",
      " 3.7119512164191986 3.427606154536616]\n",
      "2.9956831080657746\n",
      "{'max_depth': None, 'n_estimators': 10}\n",
      "[4.087946590826774 3.5403232746302824 4.600968208305476 4.008745378066913\n",
      " 4.109036561944618 3.1944077292576076 4.465022282937201 3.753237450258735\n",
      " 3.8620388542178277 3.1212641867449786]\n",
      "3.1212641867449786\n",
      "{'max_depth': None, 'n_estimators': 10}\n",
      "[3.9271089982110494 3.5130119678731173 4.2206873688003625\n",
      " 3.8927706024068462 3.847400655233119 3.4868998222447365 4.719974403049099\n",
      " 4.229305024191838 3.5635719997494357 3.1945675338604227]\n",
      "3.1945675338604227\n",
      "{'max_depth': None, 'n_estimators': 10}\n"
     ]
    },
    {
     "data": {
      "text/plain": [
       "[3.7341606663817966,\n",
       " 3.3876013009587504,\n",
       " 5.8785022002897875,\n",
       " 3.012809615986084,\n",
       " 3.065403079466705]"
      ]
     },
     "execution_count": 2,
     "metadata": {},
     "output_type": "execute_result"
    }
   ],
   "source": [
    "boston = load_boston()\n",
    "X = boston.data\n",
    "y = boston.target\n",
    "\n",
    "# Define a parameters grid\n",
    "param_grid = {\n",
    "     'max_depth': [3, None],\n",
    "     'n_estimators': [10]\n",
    "}\n",
    "\n",
    "NCV = NestedCV(model=RandomForestRegressor(), params_grid=param_grid,\n",
    "               outer_kfolds=5, inner_kfolds=5, n_jobs = -1,\n",
    "               cv_options={'sqrt_of_score':True, \n",
    "                           'recursive_feature_elimination':True, \n",
    "                           'rfe_n_features':2})\n",
    "NCV.fit(X=X,y=y)\n",
    "\n",
    "NCV.outer_scores"
   ]
  },
  {
   "cell_type": "markdown",
   "metadata": {},
   "source": [
    "# Classification Example"
   ]
  },
  {
   "cell_type": "markdown",
   "metadata": {},
   "source": [
    "## Breast Cancer (2 Classes)"
   ]
  },
  {
   "cell_type": "code",
   "execution_count": 3,
   "metadata": {},
   "outputs": [
    {
     "name": "stdout",
     "output_type": "stream",
     "text": [
      "[0.9768244575936884 0.9783037475345168 0.9672090729783037\n",
      " 0.9842209072978304 0.9891640866873065 0.9943240454076367\n",
      " 0.9852941176470589 0.9940660474716203 0.992769744160178\n",
      " 0.9949944382647385 0.9949944382647387 0.9986095661846496\n",
      " 0.9731182795698925 0.9924731182795699 0.9755376344086022\n",
      " 0.9760752688172043 0.9793942403177756 0.9771598808341607\n",
      " 0.9779046673286991 0.9784011916583913]\n",
      "0.9986095661846496\n",
      "{'max_depth': None, 'n_estimators': 20}\n",
      "[0.9984326018808777 0.9989550679205851 0.997387669801463 0.996342737722048\n",
      " 0.9804075235109717 0.9743991640543365 0.990073145245559\n",
      " 0.9905956112852664 0.9948979591836735 0.9937641723356009\n",
      " 0.9880952380952381 0.9982993197278911 0.9884884884884885\n",
      " 0.9944944944944945 0.9917417417417418 0.9804804804804805\n",
      " 0.9955312810327706 0.9950347567030784 0.9828699106256207\n",
      " 0.9952830188679245]\n",
      "0.9989550679205851\n",
      "{'max_depth': 3, 'n_estimators': 20}\n",
      "[0.957172342621259 0.9625902992776058 0.9643962848297214\n",
      " 0.9760061919504643 0.9901639344262295 0.9989071038251367\n",
      " 0.9991803278688525 1.0 0.9877641824249166 0.9866518353726362\n",
      " 0.9869299221357063 0.985539488320356 0.9903343782654128 0.96760710553814\n",
      " 0.9947753396029257 0.9939916405433646 0.9823232323232324\n",
      " 0.9898989898989898 0.978030303030303 0.9941919191919192]\n",
      "1.0\n",
      "{'max_depth': None, 'n_estimators': 20}\n",
      "[0.9784784784784785 0.9759759759759761 0.9734734734734735\n",
      " 0.9784784784784786 0.9448484848484848 0.956969696969697\n",
      " 0.9445454545454545 0.9615151515151515 0.996236559139785\n",
      " 0.9983870967741936 0.9887096774193548 0.9768817204301075\n",
      " 0.998989898989899 0.9974747474747475 0.9944444444444445\n",
      " 0.9989898989898991 0.969607843137255 0.9769607843137255\n",
      " 0.9772058823529413 0.9784313725490197]\n",
      "0.9989898989898991\n",
      "{'max_depth': None, 'n_estimators': 20}\n",
      "[0.9630456349206349 0.9615575396825398 0.951140873015873\n",
      " 0.9558531746031746 0.994535519125683 0.994535519125683 0.9877049180327869\n",
      " 0.9967213114754098 0.9853535353535353 0.98989898989899 0.9891414141414141\n",
      " 0.9921717171717171 0.9853658536585367 0.9848780487804878\n",
      " 0.9968292682926829 0.9990243902439025 0.9945820433436533\n",
      " 0.9943240454076367 0.9904540763673891 0.9969040247678018]\n",
      "0.9990243902439025\n",
      "{'max_depth': None, 'n_estimators': 20}\n"
     ]
    },
    {
     "data": {
      "text/plain": [
       "[0.9929836284664217,\n",
       " 0.96053062561415,\n",
       " 0.9921875,\n",
       " 0.9955781198820832,\n",
       " 0.9981684981684981]"
      ]
     },
     "execution_count": 3,
     "metadata": {},
     "output_type": "execute_result"
    }
   ],
   "source": [
    "from sklearn.metrics import roc_auc_score\n",
    "\n",
    "# Binary classification\n",
    "cancer = load_breast_cancer()\n",
    "X = cancer.data\n",
    "y = cancer.target\n",
    "\n",
    "# Define a parameters grid\n",
    "param_grid = {\n",
    "     'max_depth': [3, None],\n",
    "     'n_estimators': [10, 20]\n",
    "}\n",
    "\n",
    "NCV = NestedCV(model=RandomForestClassifier(), params_grid=param_grid,\n",
    "               outer_kfolds=5, inner_kfolds=5,\n",
    "               cv_options={'metric':roc_auc_score, \n",
    "                           'metric_score_indicator_lower':False,\n",
    "                           'randomized_search_iter':30, \n",
    "                           'predict_proba':True})\n",
    "NCV.fit(X=X,y=y)\n",
    "\n",
    "NCV.outer_scores"
   ]
  },
  {
   "cell_type": "markdown",
   "metadata": {},
   "source": [
    "## Iris (3 Classes)"
   ]
  },
  {
   "cell_type": "code",
   "execution_count": 4,
   "metadata": {},
   "outputs": [
    {
     "name": "stdout",
     "output_type": "stream",
     "text": [
      "[0.9583333333333334 0.9583333333333334 0.9583333333333334\n",
      " 0.9583333333333334 0.9583333333333334 0.9166666666666666 0.875\n",
      " 0.9166666666666666 0.9583333333333334 0.9166666666666666\n",
      " 0.9166666666666666 0.9166666666666666 0.9166666666666666\n",
      " 0.9166666666666666 0.9583333333333334 0.9583333333333334\n",
      " 0.9583333333333334 0.9583333333333334 0.9583333333333334\n",
      " 0.9583333333333334]\n",
      "0.9583333333333334\n",
      "{'max_depth': 3, 'n_estimators': 10}\n",
      "[0.9166666666666666 1.0 0.9166666666666666 0.9166666666666666\n",
      " 0.9166666666666666 0.9166666666666666 0.9166666666666666\n",
      " 0.9166666666666666 0.9583333333333334 0.9583333333333334\n",
      " 0.9166666666666666 0.9166666666666666 0.9583333333333334\n",
      " 0.9583333333333334 0.9583333333333334 0.875 0.9583333333333334\n",
      " 0.9583333333333334 0.9583333333333334 0.9583333333333334]\n",
      "1.0\n",
      "{'max_depth': 3, 'n_estimators': 20}\n",
      "[0.875 0.9166666666666666 0.9166666666666666 0.9166666666666666\n",
      " 0.9583333333333334 0.9583333333333334 0.9583333333333334\n",
      " 0.9583333333333334 0.9166666666666666 0.9583333333333334\n",
      " 0.9166666666666666 0.9166666666666666 0.9583333333333334 1.0\n",
      " 0.9166666666666666 0.9583333333333334 0.9166666666666666\n",
      " 0.9583333333333334 0.9166666666666666 0.9583333333333334]\n",
      "1.0\n",
      "{'max_depth': 3, 'n_estimators': 20}\n",
      "[1.0 1.0 1.0 1.0 1.0 1.0 1.0 1.0 0.9166666666666666 0.9166666666666666\n",
      " 0.9166666666666666 0.9166666666666666 0.9583333333333334\n",
      " 0.9583333333333334 0.9583333333333334 0.9583333333333334\n",
      " 0.8333333333333334 0.875 0.8333333333333334 0.9166666666666666]\n",
      "1.0\n",
      "{'max_depth': 3, 'n_estimators': 10}\n",
      "[0.9166666666666666 0.9583333333333334 0.9166666666666666\n",
      " 0.9166666666666666 1.0 0.9583333333333334 0.9583333333333334 1.0\n",
      " 0.9583333333333334 0.9166666666666666 0.9583333333333334\n",
      " 0.9583333333333334 1.0 1.0 1.0 0.9583333333333334 0.9166666666666666\n",
      " 0.9166666666666666 0.9166666666666666 0.9166666666666666]\n",
      "1.0\n",
      "{'max_depth': 3, 'n_estimators': 10}\n"
     ]
    },
    {
     "data": {
      "text/plain": [
       "[0.9666666666666667,\n",
       " 0.9666666666666667,\n",
       " 1.0,\n",
       " 0.9333333333333333,\n",
       " 0.9333333333333333]"
      ]
     },
     "execution_count": 4,
     "metadata": {},
     "output_type": "execute_result"
    }
   ],
   "source": [
    "from sklearn.metrics import f1_score\n",
    "\n",
    "# Multiclass classification\n",
    "iris = load_iris()\n",
    "X = iris.data\n",
    "y = iris.target\n",
    "\n",
    "# Define a parameters grid\n",
    "param_grid = {\n",
    "     'max_depth': [3, None],\n",
    "     'n_estimators': [10, 20]\n",
    "}\n",
    "\n",
    "NCV = NestedCV(model=RandomForestClassifier(), params_grid=param_grid, \n",
    "               outer_kfolds=5, inner_kfolds=5,\n",
    "               cv_options={'metric':f1_score, \n",
    "                           'metric_score_indicator_lower':False,\n",
    "                           'randomized_search_iter':30, \n",
    "                           'predict_proba':False,\n",
    "                           'multiclass_average': 'micro'})\n",
    "NCV.fit(X=X,y=y)\n",
    "\n",
    "NCV.outer_scores"
   ]
  },
  {
   "cell_type": "code",
   "execution_count": null,
   "metadata": {},
   "outputs": [],
   "source": []
  }
 ],
 "metadata": {
  "kernelspec": {
   "display_name": "Python 3",
   "language": "python",
   "name": "python3"
  },
  "language_info": {
   "codemirror_mode": {
    "name": "ipython",
    "version": 3
   },
   "file_extension": ".py",
   "mimetype": "text/x-python",
   "name": "python",
   "nbconvert_exporter": "python",
   "pygments_lexer": "ipython3",
   "version": "3.7.3"
  }
 },
 "nbformat": 4,
 "nbformat_minor": 2
}
