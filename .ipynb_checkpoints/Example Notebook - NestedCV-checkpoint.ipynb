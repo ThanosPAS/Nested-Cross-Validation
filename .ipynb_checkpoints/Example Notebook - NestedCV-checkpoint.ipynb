{
 "cells": [
  {
   "cell_type": "code",
   "execution_count": 1,
   "metadata": {},
   "outputs": [],
   "source": [
    "from nested_cv import NestedCV\n",
    "\n",
    "import pandas as pd\n",
    "import numpy as np\n",
    "from sklearn.datasets import load_boston, load_iris, load_breast_cancer\n",
    "from sklearn.ensemble import RandomForestRegressor, RandomForestClassifier\n",
    "\n",
    "# When using Random Search, we get a user warning with this little number of hyperparameters\n",
    "# Suppress it\n",
    "import warnings\n",
    "warnings.simplefilter(action='ignore', category=UserWarning)"
   ]
  },
  {
   "cell_type": "markdown",
   "metadata": {},
   "source": [
    "# Regression Example"
   ]
  },
  {
   "cell_type": "code",
   "execution_count": 2,
   "metadata": {},
   "outputs": [
    {
     "data": {
      "text/plain": [
       "[3.6357351067256904,\n",
       " 4.358063642050881,\n",
       " 3.982165148115874,\n",
       " 5.374697835051513,\n",
       " 3.803587850646463]"
      ]
     },
     "execution_count": 2,
     "metadata": {},
     "output_type": "execute_result"
    }
   ],
   "source": [
    "boston = load_boston()\n",
    "X = boston.data\n",
    "y = boston.target\n",
    "\n",
    "# Define a parameters grid\n",
    "param_grid = {\n",
    "     'max_depth': [3, None],\n",
    "     'n_estimators': [10]\n",
    "}\n",
    "\n",
    "NCV = NestedCV(model=RandomForestRegressor(), params_grid=param_grid, outer_kfolds=5, inner_kfolds=5,\n",
    "               cv_options={'sqrt_of_score':True, 'randomized_search_iter':30,\n",
    "                           'recursive_feature_elimination':True, 'rfe_n_features':2})\n",
    "NCV.fit(X=X,y=y)\n",
    "\n",
    "NCV.outer_scores"
   ]
  },
  {
   "cell_type": "markdown",
   "metadata": {},
   "source": [
    "# Classification Example"
   ]
  },
  {
   "cell_type": "code",
   "execution_count": 3,
   "metadata": {},
   "outputs": [
    {
     "data": {
      "text/plain": [
       "[0.9954369954369955,\n",
       " 0.9888072168392916,\n",
       " 0.9991554054054055,\n",
       " 0.972455648926237,\n",
       " 0.9913621262458471]"
      ]
     },
     "execution_count": 3,
     "metadata": {},
     "output_type": "execute_result"
    }
   ],
   "source": [
    "from sklearn.metrics import roc_auc_score\n",
    "from sklearn.model_selection import GridSearchCV\n",
    "\n",
    "# Binary classification\n",
    "iris = load_breast_cancer()\n",
    "X = iris.data\n",
    "y = iris.target\n",
    "\n",
    "# Define a parameters grid\n",
    "param_grid = {\n",
    "     'max_depth': [3, None],\n",
    "     'n_estimators': [10, 20]\n",
    "}\n",
    "\n",
    "NCV = NestedCV(model=RandomForestClassifier(), params_grid=param_grid, outer_kfolds=5, inner_kfolds=5,\n",
    "               cv_options={'metric':roc_auc_score, 'metric_score_indicator_lower':False,\n",
    "                           'randomized_search_iter':30, 'predict_proba':True})\n",
    "NCV.fit(X=X,y=y)\n",
    "\n",
    "NCV.outer_scores"
   ]
  },
  {
   "cell_type": "code",
   "execution_count": null,
   "metadata": {},
   "outputs": [],
   "source": []
  }
 ],
 "metadata": {
  "kernelspec": {
   "display_name": "Python 3",
   "language": "python",
   "name": "python3"
  },
  "language_info": {
   "codemirror_mode": {
    "name": "ipython",
    "version": 3
   },
   "file_extension": ".py",
   "mimetype": "text/x-python",
   "name": "python",
   "nbconvert_exporter": "python",
   "pygments_lexer": "ipython3",
   "version": "3.6.8"
  }
 },
 "nbformat": 4,
 "nbformat_minor": 2
}
